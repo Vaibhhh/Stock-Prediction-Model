{
  "nbformat": 4,
  "nbformat_minor": 0,
  "metadata": {
    "colab": {
      "name": "Stock Analyser.ipynb",
      "provenance": []
    },
    "kernelspec": {
      "name": "python3",
      "display_name": "Python 3"
    }
  },
  "cells": [
    {
      "cell_type": "markdown",
      "metadata": {
        "id": "GqUHfMEqJ0IT"
      },
      "source": [
        "## STOCK PREDICTER AND ANALYSER* (eg: Reliance.NS) "
      ]
    },
    {
      "cell_type": "code",
      "metadata": {
        "id": "bl7yQ9ujycQs"
      },
      "source": [
        "import numpy as np\n",
        "import matplotlib.pyplot as plt\n",
        "import pandas as pd\n",
        "import datetime"
      ],
      "execution_count": 55,
      "outputs": []
    },
    {
      "cell_type": "code",
      "metadata": {
        "id": "Co9w2D_nJ5Ff"
      },
      "source": [
        "from google.colab import files\n",
        "files.upload()"
      ],
      "execution_count": null,
      "outputs": []
    },
    {
      "cell_type": "code",
      "metadata": {
        "id": "2uY-FJlXLuHR",
        "outputId": "b3697e53-89fd-4d1c-a0da-7febde34f04a",
        "colab": {
          "base_uri": "https://localhost:8080/",
          "height": 235
        }
      },
      "source": [
        "dataset = pd.read_csv(\"RELIANCE.NS Training.csv\",index_col=\"Date\", parse_dates=True)\n",
        "dataset.head()"
      ],
      "execution_count": 57,
      "outputs": [
        {
          "output_type": "execute_result",
          "data": {
            "text/html": [
              "<div>\n",
              "<style scoped>\n",
              "    .dataframe tbody tr th:only-of-type {\n",
              "        vertical-align: middle;\n",
              "    }\n",
              "\n",
              "    .dataframe tbody tr th {\n",
              "        vertical-align: top;\n",
              "    }\n",
              "\n",
              "    .dataframe thead th {\n",
              "        text-align: right;\n",
              "    }\n",
              "</style>\n",
              "<table border=\"1\" class=\"dataframe\">\n",
              "  <thead>\n",
              "    <tr style=\"text-align: right;\">\n",
              "      <th></th>\n",
              "      <th>Open</th>\n",
              "      <th>High</th>\n",
              "      <th>Low</th>\n",
              "      <th>Close</th>\n",
              "      <th>Adj Close</th>\n",
              "      <th>Volume</th>\n",
              "    </tr>\n",
              "    <tr>\n",
              "      <th>Date</th>\n",
              "      <th></th>\n",
              "      <th></th>\n",
              "      <th></th>\n",
              "      <th></th>\n",
              "      <th></th>\n",
              "      <th></th>\n",
              "    </tr>\n",
              "  </thead>\n",
              "  <tbody>\n",
              "    <tr>\n",
              "      <th>2000-10-16</th>\n",
              "      <td>50.137901</td>\n",
              "      <td>52.230900</td>\n",
              "      <td>47.677799</td>\n",
              "      <td>48.466599</td>\n",
              "      <td>21.980963</td>\n",
              "      <td>31111262.0</td>\n",
              "    </tr>\n",
              "    <tr>\n",
              "      <th>2000-10-17</th>\n",
              "      <td>47.662201</td>\n",
              "      <td>48.685299</td>\n",
              "      <td>46.428299</td>\n",
              "      <td>47.162399</td>\n",
              "      <td>21.389473</td>\n",
              "      <td>37607074.0</td>\n",
              "    </tr>\n",
              "    <tr>\n",
              "      <th>2000-10-18</th>\n",
              "      <td>46.779701</td>\n",
              "      <td>47.248299</td>\n",
              "      <td>45.959702</td>\n",
              "      <td>46.600101</td>\n",
              "      <td>21.134457</td>\n",
              "      <td>17358208.0</td>\n",
              "    </tr>\n",
              "    <tr>\n",
              "      <th>2000-10-19</th>\n",
              "      <td>46.358002</td>\n",
              "      <td>48.169899</td>\n",
              "      <td>44.827301</td>\n",
              "      <td>47.349800</td>\n",
              "      <td>21.474464</td>\n",
              "      <td>32123844.0</td>\n",
              "    </tr>\n",
              "    <tr>\n",
              "      <th>2000-10-20</th>\n",
              "      <td>48.302601</td>\n",
              "      <td>48.966400</td>\n",
              "      <td>46.256500</td>\n",
              "      <td>46.561100</td>\n",
              "      <td>21.116770</td>\n",
              "      <td>40302077.0</td>\n",
              "    </tr>\n",
              "  </tbody>\n",
              "</table>\n",
              "</div>"
            ],
            "text/plain": [
              "                 Open       High        Low      Close  Adj Close      Volume\n",
              "Date                                                                         \n",
              "2000-10-16  50.137901  52.230900  47.677799  48.466599  21.980963  31111262.0\n",
              "2000-10-17  47.662201  48.685299  46.428299  47.162399  21.389473  37607074.0\n",
              "2000-10-18  46.779701  47.248299  45.959702  46.600101  21.134457  17358208.0\n",
              "2000-10-19  46.358002  48.169899  44.827301  47.349800  21.474464  32123844.0\n",
              "2000-10-20  48.302601  48.966400  46.256500  46.561100  21.116770  40302077.0"
            ]
          },
          "metadata": {
            "tags": []
          },
          "execution_count": 57
        }
      ]
    },
    {
      "cell_type": "code",
      "metadata": {
        "id": "hK7Z_LrQMVm6",
        "outputId": "a994c8a6-b8b6-48de-9a86-169eba0f8179",
        "colab": {
          "base_uri": "https://localhost:8080/",
          "height": 136
        }
      },
      "source": [
        "dataset.isna().any()"
      ],
      "execution_count": 58,
      "outputs": [
        {
          "output_type": "execute_result",
          "data": {
            "text/plain": [
              "Open         True\n",
              "High         True\n",
              "Low          True\n",
              "Close        True\n",
              "Adj Close    True\n",
              "Volume       True\n",
              "dtype: bool"
            ]
          },
          "metadata": {
            "tags": []
          },
          "execution_count": 58
        }
      ]
    },
    {
      "cell_type": "code",
      "metadata": {
        "id": "p4oqvle-Mjsf",
        "outputId": "5e50bf6e-8eaf-45a4-8ef9-58fd93f7ea1f",
        "colab": {
          "base_uri": "https://localhost:8080/",
          "height": 238
        }
      },
      "source": [
        "dataset.info()"
      ],
      "execution_count": 59,
      "outputs": [
        {
          "output_type": "stream",
          "text": [
            "<class 'pandas.core.frame.DataFrame'>\n",
            "DatetimeIndex: 4958 entries, 2000-10-16 to 2020-08-14\n",
            "Data columns (total 6 columns):\n",
            " #   Column     Non-Null Count  Dtype  \n",
            "---  ------     --------------  -----  \n",
            " 0   Open       4899 non-null   float64\n",
            " 1   High       4899 non-null   float64\n",
            " 2   Low        4899 non-null   float64\n",
            " 3   Close      4899 non-null   float64\n",
            " 4   Adj Close  4899 non-null   float64\n",
            " 5   Volume     4899 non-null   float64\n",
            "dtypes: float64(6)\n",
            "memory usage: 271.1 KB\n"
          ],
          "name": "stdout"
        }
      ]
    },
    {
      "cell_type": "code",
      "metadata": {
        "id": "vF3-HqiSMqSX",
        "outputId": "7835b0d7-c598-4adb-cd7d-0bc60d35a807",
        "colab": {
          "base_uri": "https://localhost:8080/",
          "height": 384
        }
      },
      "source": [
        "dataset['Open'].plot(figsize=(16,6))"
      ],
      "execution_count": 60,
      "outputs": [
        {
          "output_type": "execute_result",
          "data": {
            "text/plain": [
              "<matplotlib.axes._subplots.AxesSubplot at 0x7fdfbe759978>"
            ]
          },
          "metadata": {
            "tags": []
          },
          "execution_count": 60
        },
        {
          "output_type": "display_data",
          "data": {
            "image/png": "[encoded data removed]",
            "text/plain": [
              "<Figure size 1152x432 with 1 Axes>"
            ]
          },
          "metadata": {
            "tags": [],
            "needs_background": "light"
          }
        }
      ]
    },
    {
      "cell_type": "code",
      "metadata": {
        "id": "p1_tEfbwNKPY"
      },
      "source": [
        "dataset.rolling(7).mean().head(20)"
      ],
      "execution_count": null,
      "outputs": []
    },
    {
      "cell_type": "code",
      "metadata": {
        "id": "dwKNloqbNhgl",
        "outputId": "a075af62-9f24-4dad-b9cd-39fe02f9ea9f",
        "colab": {
          "base_uri": "https://localhost:8080/",
          "height": 384
        }
      },
      "source": [
        "dataset['Open'].plot(figsize=(16,6))\n",
        "dataset.rolling(window=30).mean()['Close'].plot()"
      ],
      "execution_count": 62,
      "outputs": [
        {
          "output_type": "execute_result",
          "data": {
            "text/plain": [
              "<matplotlib.axes._subplots.AxesSubplot at 0x7fdfbe6eecc0>"
            ]
          },
          "metadata": {
            "tags": []
          },
          "execution_count": 62
        },
        {
          "output_type": "display_data",
          "data": {
            "image/png": "[encoded data removed]",
            "text/plain": [
              "<Figure size 1152x432 with 1 Axes>"
            ]
          },
          "metadata": {
            "tags": [],
            "needs_background": "light"
          }
        }
      ]
    },
    {
      "cell_type": "code",
      "metadata": {
        "id": "t9tyUl8MNsaQ",
        "outputId": "876da5ad-99e0-487c-d491-5b11eab7ff40",
        "colab": {
          "base_uri": "https://localhost:8080/",
          "height": 384
        }
      },
      "source": [
        "dataset['Close'].expanding(min_periods=1).mean().plot(figsize=(16,6))"
      ],
      "execution_count": 64,
      "outputs": [
        {
          "output_type": "execute_result",
          "data": {
            "text/plain": [
              "<matplotlib.axes._subplots.AxesSubplot at 0x7fdfbe6492b0>"
            ]
          },
          "metadata": {
            "tags": []
          },
          "execution_count": 64
        },
        {
          "output_type": "display_data",
          "data": {
            "image/png": "[encoded data removed]",
            "text/plain": [
              "<Figure size 1152x432 with 1 Axes>"
            ]
          },
          "metadata": {
            "tags": [],
            "needs_background": "light"
          }
        }
      ]
    },
    {
      "cell_type": "code",
      "metadata": {
        "id": "XMnGBfnDQUgj"
      },
      "source": [
        "training_set=dataset['Open']\n",
        "training_set=pd.DataFrame(training_set)"
      ],
      "execution_count": 65,
      "outputs": []
    },
    {
      "cell_type": "code",
      "metadata": {
        "id": "B0tXFXsQQdoG"
      },
      "source": [
        "from sklearn.preprocessing import MinMaxScaler\n",
        "sc = MinMaxScaler(feature_range = (0, 1))\n",
        "training_set_scaled = sc.fit_transform(training_set)"
      ],
      "execution_count": 66,
      "outputs": []
    },
    {
      "cell_type": "code",
      "metadata": {
        "id": "zfVoHnuUQfxF"
      },
      "source": [
        "X_train = []\n",
        "y_train = []\n",
        "for i in range(60, 1258):\n",
        "    X_train.append(training_set_scaled[i-60:i, 0])\n",
        "    y_train.append(training_set_scaled[i, 0])\n",
        "X_train, y_train = np.array(X_train), np.array(y_train)\n",
        "\n",
        "# Reshaping\n",
        "X_train = np.reshape(X_train, (X_train.shape[0], X_train.shape[1], 1))"
      ],
      "execution_count": 67,
      "outputs": []
    },
    {
      "cell_type": "code",
      "metadata": {
        "id": "KCHwc6zDQkvc"
      },
      "source": [
        "# Part 2 - Building the RNN\n",
        "\n",
        "# Importing the Keras libraries and packages\n",
        "from keras.models import Sequential\n",
        "from keras.layers import Dense\n",
        "from keras.layers import LSTM\n",
        "from keras.layers import Dropout"
      ],
      "execution_count": 68,
      "outputs": []
    },
    {
      "cell_type": "code",
      "metadata": {
        "id": "SUYkdV4nQqj-"
      },
      "source": [
        "# Initialising the RNN\n",
        "regressor = Sequential()"
      ],
      "execution_count": 69,
      "outputs": []
    },
    {
      "cell_type": "code",
      "metadata": {
        "id": "k_w60a4TQx1N"
      },
      "source": [
        "# Adding the first LSTM layer and some Dropout regularisation\n",
        "regressor.add(LSTM(units = 50, return_sequences = True, input_shape = (X_train.shape[1], 1)))\n",
        "regressor.add(Dropout(0.2))\n",
        "\n",
        "# Adding a second LSTM layer and some Dropout regularisation\n",
        "regressor.add(LSTM(units = 50, return_sequences = True))\n",
        "regressor.add(Dropout(0.2))\n",
        "\n",
        "# Adding a third LSTM layer and some Dropout regularisation\n",
        "regressor.add(LSTM(units = 50, return_sequences = True))\n",
        "regressor.add(Dropout(0.2))\n",
        "\n",
        "# Adding a fourth LSTM layer and some Dropout regularisation\n",
        "regressor.add(LSTM(units = 50))\n",
        "regressor.add(Dropout(0.2))\n",
        "\n",
        "# Adding the output layer\n",
        "regressor.add(Dense(units = 1))"
      ],
      "execution_count": 70,
      "outputs": []
    },
    {
      "cell_type": "code",
      "metadata": {
        "id": "8CfM-HIWQ3Hv"
      },
      "source": [
        "# Compiling the RNN\n",
        "regressor.compile(optimizer = 'adam', loss = 'mean_squared_error')\n",
        "\n",
        "# Fitting the RNN to the Training set\n",
        "regressor.fit(X_train, y_train, epochs = 100, batch_size = 32)"
      ],
      "execution_count": null,
      "outputs": []
    },
    {
      "cell_type": "code",
      "metadata": {
        "id": "2qvCRy9uU59V"
      },
      "source": [
        "from google.colab import files\n",
        "files.upload()"
      ],
      "execution_count": null,
      "outputs": []
    },
    {
      "cell_type": "code",
      "metadata": {
        "id": "RgUhjBfuVX9u"
      },
      "source": [
        "dataset_test = pd.read_csv(\"RELIANCETest.csv\", index_col=\"Date\",parse_dates=True)"
      ],
      "execution_count": 73,
      "outputs": []
    },
    {
      "cell_type": "code",
      "metadata": {
        "id": "MuDv_-OiV5xV"
      },
      "source": [
        "real_stock_price = dataset_test.iloc[:, 1:2].values"
      ],
      "execution_count": 74,
      "outputs": []
    },
    {
      "cell_type": "code",
      "metadata": {
        "id": "iNtPbSiTWAFj",
        "outputId": "1311cb99-391e-414f-e03e-be4ae15070f6",
        "colab": {
          "base_uri": "https://localhost:8080/",
          "height": 235
        }
      },
      "source": [
        "dataset_test.head()"
      ],
      "execution_count": 75,
      "outputs": [
        {
          "output_type": "execute_result",
          "data": {
            "text/html": [
              "<div>\n",
              "<style scoped>\n",
              "    .dataframe tbody tr th:only-of-type {\n",
              "        vertical-align: middle;\n",
              "    }\n",
              "\n",
              "    .dataframe tbody tr th {\n",
              "        vertical-align: top;\n",
              "    }\n",
              "\n",
              "    .dataframe thead th {\n",
              "        text-align: right;\n",
              "    }\n",
              "</style>\n",
              "<table border=\"1\" class=\"dataframe\">\n",
              "  <thead>\n",
              "    <tr style=\"text-align: right;\">\n",
              "      <th></th>\n",
              "      <th>Open</th>\n",
              "      <th>High</th>\n",
              "      <th>Low</th>\n",
              "      <th>Close</th>\n",
              "      <th>Adj Close</th>\n",
              "      <th>Volume</th>\n",
              "    </tr>\n",
              "    <tr>\n",
              "      <th>Date</th>\n",
              "      <th></th>\n",
              "      <th></th>\n",
              "      <th></th>\n",
              "      <th></th>\n",
              "      <th></th>\n",
              "      <th></th>\n",
              "    </tr>\n",
              "  </thead>\n",
              "  <tbody>\n",
              "    <tr>\n",
              "      <th>2020-08-17</th>\n",
              "      <td>2105.0</td>\n",
              "      <td>2105.000000</td>\n",
              "      <td>2070.100098</td>\n",
              "      <td>2091.350098</td>\n",
              "      <td>2091.350098</td>\n",
              "      <td>14296834</td>\n",
              "    </tr>\n",
              "    <tr>\n",
              "      <th>2020-08-18</th>\n",
              "      <td>2085.0</td>\n",
              "      <td>2134.300049</td>\n",
              "      <td>2082.350098</td>\n",
              "      <td>2118.550049</td>\n",
              "      <td>2118.550049</td>\n",
              "      <td>14097746</td>\n",
              "    </tr>\n",
              "    <tr>\n",
              "      <th>2020-08-19</th>\n",
              "      <td>2141.0</td>\n",
              "      <td>2154.000000</td>\n",
              "      <td>2121.350098</td>\n",
              "      <td>2131.550049</td>\n",
              "      <td>2131.550049</td>\n",
              "      <td>15731396</td>\n",
              "    </tr>\n",
              "    <tr>\n",
              "      <th>2020-08-20</th>\n",
              "      <td>2120.0</td>\n",
              "      <td>2123.899902</td>\n",
              "      <td>2088.000000</td>\n",
              "      <td>2097.050049</td>\n",
              "      <td>2097.050049</td>\n",
              "      <td>10401212</td>\n",
              "    </tr>\n",
              "    <tr>\n",
              "      <th>2020-08-21</th>\n",
              "      <td>2118.0</td>\n",
              "      <td>2122.000000</td>\n",
              "      <td>2077.000000</td>\n",
              "      <td>2081.850098</td>\n",
              "      <td>2081.850098</td>\n",
              "      <td>11667129</td>\n",
              "    </tr>\n",
              "  </tbody>\n",
              "</table>\n",
              "</div>"
            ],
            "text/plain": [
              "              Open         High  ...    Adj Close    Volume\n",
              "Date                             ...                       \n",
              "2020-08-17  2105.0  2105.000000  ...  2091.350098  14296834\n",
              "2020-08-18  2085.0  2134.300049  ...  2118.550049  14097746\n",
              "2020-08-19  2141.0  2154.000000  ...  2131.550049  15731396\n",
              "2020-08-20  2120.0  2123.899902  ...  2097.050049  10401212\n",
              "2020-08-21  2118.0  2122.000000  ...  2081.850098  11667129\n",
              "\n",
              "[5 rows x 6 columns]"
            ]
          },
          "metadata": {
            "tags": []
          },
          "execution_count": 75
        }
      ]
    },
    {
      "cell_type": "code",
      "metadata": {
        "id": "a30Q_5L2WD_s",
        "outputId": "0c2f2820-1fce-4b1d-e91b-c4a43e823a84",
        "colab": {
          "base_uri": "https://localhost:8080/",
          "height": 238
        }
      },
      "source": [
        "dataset_test.info()"
      ],
      "execution_count": 76,
      "outputs": [
        {
          "output_type": "stream",
          "text": [
            "<class 'pandas.core.frame.DataFrame'>\n",
            "DatetimeIndex: 42 entries, 2020-08-17 to 2020-10-14\n",
            "Data columns (total 6 columns):\n",
            " #   Column     Non-Null Count  Dtype  \n",
            "---  ------     --------------  -----  \n",
            " 0   Open       42 non-null     float64\n",
            " 1   High       42 non-null     float64\n",
            " 2   Low        42 non-null     float64\n",
            " 3   Close      42 non-null     float64\n",
            " 4   Adj Close  42 non-null     float64\n",
            " 5   Volume     42 non-null     int64  \n",
            "dtypes: float64(5), int64(1)\n",
            "memory usage: 2.3 KB\n"
          ],
          "name": "stdout"
        }
      ]
    },
    {
      "cell_type": "code",
      "metadata": {
        "id": "iQIhUHmFWNZE"
      },
      "source": [
        "test_set=dataset_test['Open']\n",
        "test_set=pd.DataFrame(test_set)"
      ],
      "execution_count": 87,
      "outputs": []
    },
    {
      "cell_type": "code",
      "metadata": {
        "id": "C5lerZnyWRl0",
        "outputId": "c0bc4973-0a8a-4113-d20b-5531552715be",
        "colab": {
          "base_uri": "https://localhost:8080/",
          "height": 153
        }
      },
      "source": [
        "test_set.info()"
      ],
      "execution_count": 78,
      "outputs": [
        {
          "output_type": "stream",
          "text": [
            "<class 'pandas.core.frame.DataFrame'>\n",
            "DatetimeIndex: 42 entries, 2020-08-17 to 2020-10-14\n",
            "Data columns (total 1 columns):\n",
            " #   Column  Non-Null Count  Dtype  \n",
            "---  ------  --------------  -----  \n",
            " 0   Open    42 non-null     float64\n",
            "dtypes: float64(1)\n",
            "memory usage: 672.0 bytes\n"
          ],
          "name": "stdout"
        }
      ]
    },
    {
      "cell_type": "code",
      "metadata": {
        "id": "96Mfapj5WVvM"
      },
      "source": [
        "dataset_total = pd.concat((dataset['Open'], dataset_test['Open']), axis = 0)\n",
        "inputs = dataset_total[len(dataset_total) - len(dataset_test) - 60:].values\n",
        "inputs = inputs.reshape(-1,1)\n",
        "inputs = sc.transform(inputs)\n",
        "X_test = []\n",
        "for i in range(60, 80):\n",
        "    X_test.append(inputs[i-60:i, 0])\n",
        "X_test = np.array(X_test)\n",
        "X_test = np.reshape(X_test, (X_test.shape[0], X_test.shape[1], 1))\n",
        "predicted_stock_price = regressor.predict(X_test)\n",
        "predicted_stock_price = sc.inverse_transform(predicted_stock_price)"
      ],
      "execution_count": 82,
      "outputs": []
    },
    {
      "cell_type": "code",
      "metadata": {
        "id": "YTgmEzO_WaN1",
        "outputId": "d28b037d-ab00-4b8f-936f-0131e6429407",
        "colab": {
          "base_uri": "https://localhost:8080/",
          "height": 153
        }
      },
      "source": [
        "predicted_stock_price=pd.DataFrame(predicted_stock_price)\n",
        "predicted_stock_price.info()"
      ],
      "execution_count": 83,
      "outputs": [
        {
          "output_type": "stream",
          "text": [
            "<class 'pandas.core.frame.DataFrame'>\n",
            "RangeIndex: 20 entries, 0 to 19\n",
            "Data columns (total 1 columns):\n",
            " #   Column  Non-Null Count  Dtype  \n",
            "---  ------  --------------  -----  \n",
            " 0   0       0 non-null      float32\n",
            "dtypes: float32(1)\n",
            "memory usage: 208.0 bytes\n"
          ],
          "name": "stdout"
        }
      ]
    },
    {
      "cell_type": "code",
      "metadata": {
        "id": "uf51JUCJWezm",
        "outputId": "f344d869-9208-4145-d626-88a77e33a0bc",
        "colab": {
          "base_uri": "https://localhost:8080/",
          "height": 295
        }
      },
      "source": [
        "plt.plot(real_stock_price, color = 'green', label = 'Real Stock Price')\n",
        "plt.plot(predicted_stock_price, color = 'red', label = 'Predicted Stock Price')\n",
        "plt.title('Stock Price Prediction')\n",
        "plt.xlabel('Time')\n",
        "plt.ylabel('Stock Price')\n",
        "plt.legend()\n",
        "plt.show()"
      ],
      "execution_count": 92,
      "outputs": [
        {
          "output_type": "display_data",
          "data": {
            "image/png": "[encoded data removed]",
            "text/plain": [
              "<Figure size 432x288 with 1 Axes>"
            ]
          },
          "metadata": {
            "tags": [],
            "needs_background": "light"
          }
        }
      ]
    }
  ]
}